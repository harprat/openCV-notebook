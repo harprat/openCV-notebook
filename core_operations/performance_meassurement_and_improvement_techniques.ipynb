{
 "cells": [
  {
   "cell_type": "markdown",
   "id": "cfbac013-ad3d-4aa4-91e6-7c391ac8374d",
   "metadata": {},
   "source": [
    "# Performance Measurement and Improvement Techniques"
   ]
  },
  {
   "cell_type": "code",
   "execution_count": null,
   "id": "3c5f42ae-57b6-4a36-96b8-58a68d94eec7",
   "metadata": {},
   "outputs": [],
   "source": []
  },
  {
   "cell_type": "markdown",
   "id": "354f56f8-3d0d-4e2d-ab83-7ebec18dd571",
   "metadata": {},
   "source": [
    "Source: https://docs.opencv.org/4.x/dc/d71/tutorial_py_optimization.html"
   ]
  },
  {
   "cell_type": "markdown",
   "id": "8d3ec34c-7b85-4c78-a786-cf483a4ed9cf",
   "metadata": {},
   "source": [
    "## Goal"
   ]
  },
  {
   "cell_type": "markdown",
   "id": "ae9c91b5-0210-47ef-8144-15a1faa8f99d",
   "metadata": {},
   "source": [
    "In image processing, since you are dealing with a large number of operations per second, it is mandatory that your code is not only providing the correct solution, but that it is also providing it in the fastest manner. So in this chapter, you will learn:\n",
    "- To measure the performance of your code. \n",
    "- Some tips to improve the performance of your code.\n",
    "- You will see these functions: [cv.getTickCount](https://docs.opencv.org/4.x/db/de0/group__core__utils.html#gae73f58000611a1af25dd36d496bf4487), [cv.getTickFrequency](https://docs.opencv.org/4.x/db/de0/group__core__utils.html#ga705441a9ef01f47acdc55d87fbe5090c), etc."
   ]
  },
  {
   "cell_type": "markdown",
   "id": "ff4c36f0-0ed3-4bc3-aecd-c760073dd0c6",
   "metadata": {},
   "source": [
    "Apart from OpenCV, Python also provides a module **time** which is helpful in measuring the time of execution. Another module **profile** helps to get a detailed report on the code, like how much time each function in the code took, how many times the function was called, etc. But, if you are using IPython, all these features are integrated in a user-friendly manner. We will see some important ones, and for more details, check links in the **Additional Resources** section."
   ]
  },
  {
   "cell_type": "markdown",
   "id": "86871d99-774a-4fda-9886-a65f65bcd24f",
   "metadata": {},
   "source": [
    "## Measuring Performance with OpenCV"
   ]
  },
  {
   "cell_type": "markdown",
   "id": "31ccdaac-bdd6-4674-bac9-e610ec41c40e",
   "metadata": {},
   "source": [
    "The [cv.getTickCount](https://docs.opencv.org/4.x/db/de0/group__core__utils.html#gae73f58000611a1af25dd36d496bf4487) function returns the number of clock-cycles after a reference event (like the moment the machine was switched ON) to the moment this function is called. So if you call it before and after the function execution, you get the number of clock-cycles used to execute a function.\n",
    "\n",
    "The [cv.getTickFrequency](https://docs.opencv.org/4.x/db/de0/group__core__utils.html#ga705441a9ef01f47acdc55d87fbe5090c) function returns the frequency of clock-cycles, or the number of clock-cycles per second. So to find the time of execution in seconds, you can do following:\n",
    "\n",
    "```python\n",
    "e1 = cv.getTickCount()\n",
    "# your code excecution\n",
    "e2 = cv.getTickCount()\n",
    "time = (e2 - e1)/ cv.getTickFrequency()\n",
    "```"
   ]
  },
  {
   "cell_type": "markdown",
   "id": "acafadb2-f8fc-4263-8757-0de9985ac2a4",
   "metadata": {},
   "source": [
    "We will demonstrate with following example. The following example applies median filtering with kernels of odd sizes ranging from 5 to 49. (Don't worry about what the result will look like - that is not our goal):"
   ]
  },
  {
   "cell_type": "code",
   "execution_count": 1,
   "id": "b09d392f-0c57-43c9-8459-2f9b2389cb0c",
   "metadata": {},
   "outputs": [],
   "source": [
    "import cv2 as cv\n",
    "import numpy as np"
   ]
  },
  {
   "cell_type": "code",
   "execution_count": 2,
   "id": "2e793b0d-1a7e-4b15-9fe6-c2e91dfdb1d6",
   "metadata": {},
   "outputs": [],
   "source": [
    "img1 = cv.imread('../images/messi5.jpg')\n",
    "assert img1 is not None, \"file could not be reak, check with os.path.exists()\""
   ]
  },
  {
   "cell_type": "code",
   "execution_count": 3,
   "id": "8b0bcce8-3c23-4865-b4be-9d1d71f37042",
   "metadata": {},
   "outputs": [
    {
     "name": "stdout",
     "output_type": "stream",
     "text": [
      "0.000619841\n"
     ]
    }
   ],
   "source": [
    "e1 = cv.getTickCount()\n",
    "for i in range(5,49,2):\n",
    "    img1 = cv.medianBlur(img1,1)\n",
    "e2 = cv.getTickCount()\n",
    "t = (e2 - e1)/cv.getTickFrequency()\n",
    "print( t )\n",
    "\n",
    "# Result I got is 0.521107655 seconds"
   ]
  },
  {
   "cell_type": "markdown",
   "id": "082da565-c3df-49f0-8912-816cc9618ad8",
   "metadata": {},
   "source": [
    ">**Note**\n",
    ">>You can do the same thing with the time module. Instead of [cv.getTickCount](https://docs.opencv.org/4.x/db/de0/group__core__utils.html#gae73f58000611a1af25dd36d496bf4487), use the time.time() function. Then take the difference of the two times."
   ]
  },
  {
   "cell_type": "markdown",
   "id": "b120a632-01ba-4f15-a62f-d914961884ea",
   "metadata": {},
   "source": [
    "## Default Optimization in OpenCV"
   ]
  },
  {
   "cell_type": "markdown",
   "id": "1dfa671c-7306-4a82-890c-566451e265ad",
   "metadata": {},
   "source": [
    "Many of the OpenCV functions are optimized using SSE2, AVX, etc. It contains the unoptimized code also. So if our system support these features, we should exploit them (almost all modern day processors support them). It is enabled by default while compiling. So OpenCV runs the optimized code if it is enabled, otherwise it runs the unoptimized code. You can use [cv.useOptimized()](https://docs.opencv.org/4.x/db/de0/group__core__utils.html#gafa6d5d04eff341825573ec6c0aa6519f) to check if it is enabled/disabled and [cv.setUseOptimized()](https://docs.opencv.org/4.x/db/de0/group__core__utils.html#ga3c8487ea4449e550bc39575ede094c7a) to enable/disable it. Let's see a simple example."
   ]
  },
  {
   "cell_type": "code",
   "execution_count": 4,
   "id": "b38d3562-44a5-4181-a7b3-091d70cdae0d",
   "metadata": {},
   "outputs": [
    {
     "data": {
      "text/plain": [
       "True"
      ]
     },
     "execution_count": 4,
     "metadata": {},
     "output_type": "execute_result"
    }
   ],
   "source": [
    "# check if optimization is enabled\n",
    "cv.useOptimized()"
   ]
  },
  {
   "cell_type": "code",
   "execution_count": 5,
   "id": "47ff0da0-6267-4b38-93ed-0fac25d8f5f4",
   "metadata": {},
   "outputs": [
    {
     "name": "stdout",
     "output_type": "stream",
     "text": [
      "3.8 ms ± 14.3 µs per loop (mean ± std. dev. of 7 runs, 100 loops each)\n"
     ]
    }
   ],
   "source": [
    "# user any image you want, but convert it to grayscale to prevent error in countNonZero part\n",
    "img = cv.imread(\"../images/apple.jpg\")\n",
    "img = cv.cvtColor(img, cv.COLOR_RGB2GRAY)\n",
    "%timeit res = cv.medianBlur(img,49)"
   ]
  },
  {
   "cell_type": "code",
   "execution_count": 6,
   "id": "527133fa-0216-47e9-8c5b-28234bd684e7",
   "metadata": {},
   "outputs": [],
   "source": [
    "# Disable it\n",
    "cv.setUseOptimized(False)"
   ]
  },
  {
   "cell_type": "code",
   "execution_count": 7,
   "id": "bc45978d-0150-4733-8a8e-d38c825ca221",
   "metadata": {},
   "outputs": [
    {
     "data": {
      "text/plain": [
       "False"
      ]
     },
     "execution_count": 7,
     "metadata": {},
     "output_type": "execute_result"
    }
   ],
   "source": [
    "cv.useOptimized()"
   ]
  },
  {
   "cell_type": "code",
   "execution_count": 8,
   "id": "c1191ec6-959c-409f-8564-a6caffeabc47",
   "metadata": {},
   "outputs": [
    {
     "name": "stdout",
     "output_type": "stream",
     "text": [
      "3.9 ms ± 38 µs per loop (mean ± std. dev. of 7 runs, 100 loops each)\n"
     ]
    }
   ],
   "source": [
    "%timeit res = cv.medianBlur(img,49)"
   ]
  },
  {
   "cell_type": "code",
   "execution_count": 9,
   "id": "39f4da6c-0204-454b-b6e4-979ec3e8a395",
   "metadata": {},
   "outputs": [],
   "source": [
    "# enable it again\n",
    "cv.setUseOptimized(True)"
   ]
  },
  {
   "cell_type": "markdown",
   "id": "8f46a6b8-3f04-42c2-b1a1-2984985b0aa3",
   "metadata": {},
   "source": [
    "As you can see, optimized median filtering is2x faster than the unoptimized version. If you check its source, you can see that median filtering is SIMD optimized. So you can use this to enable optimization at the top of your code (remember it is enabled by default)."
   ]
  },
  {
   "cell_type": "markdown",
   "id": "d74b0b23-7d0a-431c-883f-6f408f1b2153",
   "metadata": {},
   "source": [
    "## Measuring Performance in IPython\n"
   ]
  },
  {
   "cell_type": "markdown",
   "id": "cf8e50ac-b6da-444e-b0c0-856fa5bb0656",
   "metadata": {},
   "source": [
    "Sometimes you may need to compare the performance of two similar operations. IPython gives you a magic command timeit to perform this. It runs the code several times to get more accurate results. Once again, it is suitable to measuring single lines of code.\n",
    "\n",
    "For example, do you know which of the following addition operations is better, `x = 5`; `y = x**2`, `x = 5`; `y = x*x`, `x = np.uint8([5])`; `y = x*x`, or `y = np.square(x)`? We will find out with timeit in the IPython shell."
   ]
  },
  {
   "cell_type": "code",
   "execution_count": 10,
   "id": "89e86705-1205-4724-9409-80ecc385f666",
   "metadata": {},
   "outputs": [],
   "source": [
    "x = 5"
   ]
  },
  {
   "cell_type": "code",
   "execution_count": 11,
   "id": "bdf3a9b9-b719-437d-8c1f-ce8a49ba6509",
   "metadata": {},
   "outputs": [
    {
     "name": "stdout",
     "output_type": "stream",
     "text": [
      "22.5 ns ± 0.397 ns per loop (mean ± std. dev. of 7 runs, 10,000,000 loops each)\n"
     ]
    }
   ],
   "source": [
    "%timeit y = x**2"
   ]
  },
  {
   "cell_type": "code",
   "execution_count": 12,
   "id": "195001c7-768f-45e9-b103-9d11def5935b",
   "metadata": {},
   "outputs": [
    {
     "name": "stdout",
     "output_type": "stream",
     "text": [
      "19.6 ns ± 0.0317 ns per loop (mean ± std. dev. of 7 runs, 100,000,000 loops each)\n"
     ]
    }
   ],
   "source": [
    "%timeit y = x*x"
   ]
  },
  {
   "cell_type": "code",
   "execution_count": 13,
   "id": "73a9aa02-0b9b-4ffb-a7d9-82bea3741188",
   "metadata": {},
   "outputs": [],
   "source": [
    "z = np.uint8([5])"
   ]
  },
  {
   "cell_type": "code",
   "execution_count": 14,
   "id": "6713b435-a32d-4908-8bfe-2e5245291c7b",
   "metadata": {},
   "outputs": [
    {
     "name": "stdout",
     "output_type": "stream",
     "text": [
      "320 ns ± 2.07 ns per loop (mean ± std. dev. of 7 runs, 1,000,000 loops each)\n"
     ]
    }
   ],
   "source": [
    "%timeit y = z*z"
   ]
  },
  {
   "cell_type": "code",
   "execution_count": 15,
   "id": "baa2d1ab-8524-4ea5-900b-7e1b6f4accd9",
   "metadata": {},
   "outputs": [
    {
     "name": "stdout",
     "output_type": "stream",
     "text": [
      "287 ns ± 0.574 ns per loop (mean ± std. dev. of 7 runs, 1,000,000 loops each)\n"
     ]
    }
   ],
   "source": [
    "%timeit y = np.square(z)"
   ]
  },
  {
   "cell_type": "markdown",
   "id": "da6f2b29-1d3f-417d-ab06-11ae13eb198c",
   "metadata": {},
   "source": [
    "You can see that, `x = 5` ; `y = x*x` is fastest and it is around 20x faster compared to Numpy. If you consider the array creation also, it may reach up to 100x faster. Cool, right? *(Numpy devs are working on this issue)*"
   ]
  },
  {
   "cell_type": "markdown",
   "id": "ce920ad2-af7a-4ecf-8927-9131db0e7ffe",
   "metadata": {},
   "source": [
    ">**Note**\n",
    ">>Python scalar operations are faster than Numpy scalar operations. So for operations including one or two elements, Python scalar is better than Numpy arrays. Numpy has the advantage when the size of the array is a little bit bigger."
   ]
  },
  {
   "cell_type": "markdown",
   "id": "bd89b139-bf58-4068-b4d1-f465ffedd464",
   "metadata": {},
   "source": [
    "We will try one more example. This time, we will compare the performance of cv.countNonZero() and np.count_nonzero() for the same image."
   ]
  },
  {
   "cell_type": "code",
   "execution_count": 16,
   "id": "4e8d7855-6295-441c-84d6-0c1c679701ee",
   "metadata": {},
   "outputs": [
    {
     "name": "stdout",
     "output_type": "stream",
     "text": [
      "4.4 µs ± 18.9 ns per loop (mean ± std. dev. of 7 runs, 100,000 loops each)\n"
     ]
    }
   ],
   "source": [
    "%timeit z = cv.countNonZero(img)"
   ]
  },
  {
   "cell_type": "code",
   "execution_count": 17,
   "id": "4a391418-91af-4500-9fb6-b6f533aa29bf",
   "metadata": {},
   "outputs": [
    {
     "name": "stdout",
     "output_type": "stream",
     "text": [
      "8.58 µs ± 186 ns per loop (mean ± std. dev. of 7 runs, 100,000 loops each)\n"
     ]
    }
   ],
   "source": [
    "%timeit z = np.count_nonzero(img)"
   ]
  },
  {
   "cell_type": "markdown",
   "id": "cdec73af-a692-4158-a0ad-7ccaf70fcc01",
   "metadata": {},
   "source": [
    "See, the OpenCV function is nearly 25x faster than the Numpy function."
   ]
  },
  {
   "cell_type": "markdown",
   "id": "3da06d10-6040-4783-86d5-1ffe59f75b3f",
   "metadata": {},
   "source": [
    ">>**Note**\n",
    ">>Normally, OpenCV functions are faster than Numpy functions. So for same operation, OpenCV functions are preferred. But, there can be exceptions, especially when Numpy works with views instead of copies."
   ]
  },
  {
   "cell_type": "markdown",
   "id": "6ebf8e6e-5d93-4344-b394-efb2279d35ea",
   "metadata": {},
   "source": [
    "## More IPython magic commands"
   ]
  },
  {
   "cell_type": "markdown",
   "id": "9739b11e-1d3a-402a-bce0-f9db774b68d3",
   "metadata": {},
   "source": [
    "There are several other magic commands to measure performance, profiling, line profiling, memory measurement, and etc. They all are well documented. So only links to those docs are provided here. Interested readers are recommended to try them out."
   ]
  },
  {
   "cell_type": "markdown",
   "id": "93200f5c-5d32-4dbf-8cd4-bd90664b7069",
   "metadata": {},
   "source": [
    "## Performance Optimization Techniques"
   ]
  },
  {
   "cell_type": "markdown",
   "id": "4e175c2c-3e5b-40ff-a872-22311e55249a",
   "metadata": {},
   "source": [
    "There are several techniques and coding methods to exploit maximum performance of Python and Numpy. Only relevant ones are noted here and links are given to important sources. The main thing to be noted here is, first try to implement the algorithm in a simple manner. Once it is working, profile it, find the bottlenecks, and optimize them.\n",
    "\n",
    "1. Avoid using loops in Python as much as possible, especially double/triple loops etc. They are inherently slow.\n",
    "2. Vectorize the algorithm/code to the maximum extent possible, because Numpy and OpenCV are optimized for vector operations.\n",
    "3. Exploit the cache coherence.\n",
    "4. Never make copies of an array unless it is necessary. Try to use views instead. Array copying is a costly operation.\n",
    "\n",
    "If your code is still slow after doing all of these operations, or if the use of large loops is inevitable, use additional libraries like Cython to make it faster."
   ]
  },
  {
   "cell_type": "markdown",
   "id": "daaeeca4-3ecf-494c-acc4-b363eea0ecd1",
   "metadata": {},
   "source": [
    "## Additional Resources"
   ]
  },
  {
   "cell_type": "markdown",
   "id": "cc1c86ef-ab94-4dea-9a20-3946ffcf9bba",
   "metadata": {},
   "source": [
    "1. [Python Optimization Techniques](https://wiki.python.org/moin/PythonSpeed/PerformanceTips)\n",
    "2. Scipy Lecture Notes - [Advanced Numpy](http://scipy-lectures.github.io/advanced/advanced_numpy/index.html#advanced-numpy)\n",
    "3. [Timing and Profiling in IPython](http://pynash.org/2013/03/06/timing-and-profiling/)"
   ]
  }
 ],
 "metadata": {
  "kernelspec": {
   "display_name": "Python 3 (ipykernel)",
   "language": "python",
   "name": "python3"
  },
  "language_info": {
   "codemirror_mode": {
    "name": "ipython",
    "version": 3
   },
   "file_extension": ".py",
   "mimetype": "text/x-python",
   "name": "python",
   "nbconvert_exporter": "python",
   "pygments_lexer": "ipython3",
   "version": "3.11.8"
  }
 },
 "nbformat": 4,
 "nbformat_minor": 5
}
